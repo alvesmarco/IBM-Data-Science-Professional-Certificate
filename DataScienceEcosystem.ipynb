{
 "cells": [
  {
   "cell_type": "markdown",
   "id": "12364c62-3344-485b-a548-460ca9c0ddca",
   "metadata": {
    "tags": []
   },
   "source": [
    "# Data Science Tools and Ecosystem"
   ]
  },
  {
   "cell_type": "markdown",
   "id": "4cc8ebf4-22ae-400f-881c-8342488de23d",
   "metadata": {
    "tags": []
   },
   "source": [
    "### In this notebook, Data Science Tools and Ecosystem are summarized."
   ]
  },
  {
   "cell_type": "markdown",
   "id": "47e5a68c-ab9a-4252-9074-9bd453dd7b64",
   "metadata": {},
   "source": [
    "#### **Objectives**:\n",
    "* List data science libraries\n",
    "* List data science languages\n",
    "* List Objectives\n",
    "* Create code cells to perform operations"
   ]
  },
  {
   "cell_type": "markdown",
   "id": "87f69dc2-c0e7-45b1-8051-ef6dbf002218",
   "metadata": {},
   "source": [
    "#### Some of the popular languages that Data Scientists use are:\n",
    "1. Python\n",
    "2. R\n",
    "3. Julia"
   ]
  },
  {
   "cell_type": "markdown",
   "id": "ad2c5a91-a5c3-4e13-b38b-d79e67a36fd9",
   "metadata": {
    "tags": []
   },
   "source": [
    "#### Some of the commonly used libraries used by Data Scientists include:\n",
    "1. Keras\n",
    "2. SciKit learn\n",
    "3. Pandas\n",
    "4. Matplotlib\n",
    "5. Numpy"
   ]
  },
  {
   "cell_type": "markdown",
   "id": "ce2783a4-d16d-45d0-9cdc-a446624cbbb6",
   "metadata": {},
   "source": [
    "|Data Science Tools|\n",
    "|------------------|\n",
    "|Jupyter|\n",
    "|RStudio|\n",
    "|Gitlab|"
   ]
  },
  {
   "cell_type": "markdown",
   "id": "28428173-9b80-4a94-85f4-19713deb047e",
   "metadata": {},
   "source": [
    "### Below are a few examples of evaluating arithmetic expressions in Python\n",
    "* **Add** 22+3\n",
    "* **Subtract** 15-5\n",
    "* **Multiplication** 67*9\n",
    "   "
   ]
  },
  {
   "cell_type": "code",
   "execution_count": 1,
   "id": "cf5f5cc0-893c-4c05-a58d-c684d4a41216",
   "metadata": {
    "tags": []
   },
   "outputs": [
    {
     "data": {
      "text/plain": [
       "17"
      ]
     },
     "execution_count": 1,
     "metadata": {},
     "output_type": "execute_result"
    }
   ],
   "source": [
    "# This arithmetic expression multiply 3 by 4 and add 5 to it\n",
    "(3*4)+5"
   ]
  },
  {
   "cell_type": "code",
   "execution_count": 6,
   "id": "80fdf3be-f57e-43a0-8172-df84951d29df",
   "metadata": {
    "tags": []
   },
   "outputs": [
    {
     "data": {
      "text/plain": [
       "3.3333333333333335"
      ]
     },
     "execution_count": 6,
     "metadata": {},
     "output_type": "execute_result"
    }
   ],
   "source": [
    "# This will convert 200 minutes to hours by diving by 60\n",
    "200/60"
   ]
  },
  {
   "cell_type": "markdown",
   "id": "2efdcbf3-c841-46e7-9494-1d7b3193df6c",
   "metadata": {},
   "source": [
    "## Author\n",
    "Marco Alves"
   ]
  }
 ],
 "metadata": {
  "kernelspec": {
   "display_name": "Python",
   "language": "python",
   "name": "conda-env-python-py"
  },
  "language_info": {
   "codemirror_mode": {
    "name": "ipython",
    "version": 3
   },
   "file_extension": ".py",
   "mimetype": "text/x-python",
   "name": "python",
   "nbconvert_exporter": "python",
   "pygments_lexer": "ipython3",
   "version": "3.7.12"
  }
 },
 "nbformat": 4,
 "nbformat_minor": 5
}
